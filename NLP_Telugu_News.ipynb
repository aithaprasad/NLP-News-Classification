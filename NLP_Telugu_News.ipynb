{
  "nbformat": 4,
  "nbformat_minor": 0,
  "metadata": {
    "colab": {
      "provenance": [],
      "authorship_tag": "ABX9TyOoatHHgpSXEtluNYXtFSPK",
      "include_colab_link": true
    },
    "kernelspec": {
      "name": "python3",
      "display_name": "Python 3"
    },
    "language_info": {
      "name": "python"
    },
    "gpuClass": "standard"
  },
  "cells": [
    {
      "cell_type": "markdown",
      "metadata": {
        "id": "view-in-github",
        "colab_type": "text"
      },
      "source": [
        "<a href=\"https://colab.research.google.com/github/aithaprasad/NLP-News-Classification/blob/main/NLP_Telugu_News.ipynb\" target=\"_parent\"><img src=\"https://colab.research.google.com/assets/colab-badge.svg\" alt=\"Open In Colab\"/></a>"
      ]
    },
    {
      "cell_type": "code",
      "source": [
        "import pandas as pd\n",
        "import tensorflow as tf\n",
        "from tensorflow import keras\n",
        "from keras_preprocessing.sequence import pad_sequences\n",
        "from keras.models import Sequential\n",
        "from keras.layers.core import Activation, Dropout, Dense\n",
        "from keras.layers import Flatten\n",
        "from keras.layers import GlobalMaxPooling1D\n",
        "from keras.layers import Embedding, Input\n",
        "from sklearn.model_selection import train_test_split\n",
        "from keras.preprocessing.text import Tokenizer"
      ],
      "metadata": {
        "id": "Ai9H_3C8g-8E"
      },
      "execution_count": null,
      "outputs": []
    },
    {
      "cell_type": "code",
      "execution_count": null,
      "metadata": {
        "id": "lAIcz1KqWoWE"
      },
      "outputs": [],
      "source": [
        "telugu_df = pd.read_csv(\"train_telugu_news.csv\")"
      ]
    },
    {
      "cell_type": "code",
      "source": [
        "test_df = pd.read_csv(\"test_telugu_news.csv\")"
      ],
      "metadata": {
        "id": "QZBHDXPzaqJC"
      },
      "execution_count": null,
      "outputs": []
    },
    {
      "cell_type": "code",
      "source": [
        "telugu_df.head()"
      ],
      "metadata": {
        "colab": {
          "base_uri": "https://localhost:8080/",
          "height": 206
        },
        "id": "1a0y6sQ-Wun_",
        "outputId": "44c154b1-dc95-433e-c950-11f10511d43c"
      },
      "execution_count": null,
      "outputs": [
        {
          "output_type": "execute_result",
          "data": {
            "text/plain": [
              "     SNo                 date  \\\n",
              "0    414  11-05-2017 00:39:13   \n",
              "1   2668  12-06-2017 00:40:32   \n",
              "2  19923  19-01-2017 19:51:31   \n",
              "3  15762  23-11-2017 17:29:04   \n",
              "4   8624  03-04-2017 15:48:23   \n",
              "\n",
              "                                            heading  \\\n",
              "0                            ఐడిబిఐపై ఆర్‌బిఐ నజర్‌   \n",
              "1             బ్యాంకింగ్‌ చీఫ్‌లతో నేడు జైట్లీ భేటీ   \n",
              "2                         కీలక వికెట్ తీసిన జడేజా..   \n",
              "3           మరో రెచ్చగొట్టే చర్యకు దిగిన పాకిస్థాన్   \n",
              "4  గోవాలో కొడుకుతో కలిసి అల్లు అర్జున్ స్విమ్మింగ్!   \n",
              "\n",
              "                                                body          topic  \n",
              "0  భారీ ఎత్తున మొండిబకాయిలు పెరిగిపోవడంతో ఐడిబిఐ ...       business  \n",
              "1  న్యూఢిల్లీ : ఆర్థిక మంత్రి అరుణ్‌ జైట్లీ సోమవా...       business  \n",
              "2  కటక్: ఇంగ్లండ్‌తో జరుగుతున్న సెకండ్ వన్డే మ్యా...         sports  \n",
              "3  \\nఇస్లామాబాద్ : పాకిస్థాన్ అంతర్జాతీయ ఉగ్రవాది...         nation  \n",
              "4  స్టార్‌ హీరోగా వరుస సినిమాలతో బిజీగా ఉన్నప్పటి...  entertainment  "
            ],
            "text/html": [
              "\n",
              "  <div id=\"df-0ad9375d-b21c-4f1c-b4d2-29005f50c209\">\n",
              "    <div class=\"colab-df-container\">\n",
              "      <div>\n",
              "<style scoped>\n",
              "    .dataframe tbody tr th:only-of-type {\n",
              "        vertical-align: middle;\n",
              "    }\n",
              "\n",
              "    .dataframe tbody tr th {\n",
              "        vertical-align: top;\n",
              "    }\n",
              "\n",
              "    .dataframe thead th {\n",
              "        text-align: right;\n",
              "    }\n",
              "</style>\n",
              "<table border=\"1\" class=\"dataframe\">\n",
              "  <thead>\n",
              "    <tr style=\"text-align: right;\">\n",
              "      <th></th>\n",
              "      <th>SNo</th>\n",
              "      <th>date</th>\n",
              "      <th>heading</th>\n",
              "      <th>body</th>\n",
              "      <th>topic</th>\n",
              "    </tr>\n",
              "  </thead>\n",
              "  <tbody>\n",
              "    <tr>\n",
              "      <th>0</th>\n",
              "      <td>414</td>\n",
              "      <td>11-05-2017 00:39:13</td>\n",
              "      <td>ఐడిబిఐపై ఆర్‌బిఐ నజర్‌</td>\n",
              "      <td>భారీ ఎత్తున మొండిబకాయిలు పెరిగిపోవడంతో ఐడిబిఐ ...</td>\n",
              "      <td>business</td>\n",
              "    </tr>\n",
              "    <tr>\n",
              "      <th>1</th>\n",
              "      <td>2668</td>\n",
              "      <td>12-06-2017 00:40:32</td>\n",
              "      <td>బ్యాంకింగ్‌ చీఫ్‌లతో నేడు జైట్లీ భేటీ</td>\n",
              "      <td>న్యూఢిల్లీ : ఆర్థిక మంత్రి అరుణ్‌ జైట్లీ సోమవా...</td>\n",
              "      <td>business</td>\n",
              "    </tr>\n",
              "    <tr>\n",
              "      <th>2</th>\n",
              "      <td>19923</td>\n",
              "      <td>19-01-2017 19:51:31</td>\n",
              "      <td>కీలక వికెట్ తీసిన జడేజా..</td>\n",
              "      <td>కటక్: ఇంగ్లండ్‌తో జరుగుతున్న సెకండ్ వన్డే మ్యా...</td>\n",
              "      <td>sports</td>\n",
              "    </tr>\n",
              "    <tr>\n",
              "      <th>3</th>\n",
              "      <td>15762</td>\n",
              "      <td>23-11-2017 17:29:04</td>\n",
              "      <td>మరో రెచ్చగొట్టే చర్యకు దిగిన పాకిస్థాన్</td>\n",
              "      <td>\\nఇస్లామాబాద్ : పాకిస్థాన్ అంతర్జాతీయ ఉగ్రవాది...</td>\n",
              "      <td>nation</td>\n",
              "    </tr>\n",
              "    <tr>\n",
              "      <th>4</th>\n",
              "      <td>8624</td>\n",
              "      <td>03-04-2017 15:48:23</td>\n",
              "      <td>గోవాలో కొడుకుతో కలిసి అల్లు అర్జున్ స్విమ్మింగ్!</td>\n",
              "      <td>స్టార్‌ హీరోగా వరుస సినిమాలతో బిజీగా ఉన్నప్పటి...</td>\n",
              "      <td>entertainment</td>\n",
              "    </tr>\n",
              "  </tbody>\n",
              "</table>\n",
              "</div>\n",
              "      <button class=\"colab-df-convert\" onclick=\"convertToInteractive('df-0ad9375d-b21c-4f1c-b4d2-29005f50c209')\"\n",
              "              title=\"Convert this dataframe to an interactive table.\"\n",
              "              style=\"display:none;\">\n",
              "        \n",
              "  <svg xmlns=\"http://www.w3.org/2000/svg\" height=\"24px\"viewBox=\"0 0 24 24\"\n",
              "       width=\"24px\">\n",
              "    <path d=\"M0 0h24v24H0V0z\" fill=\"none\"/>\n",
              "    <path d=\"M18.56 5.44l.94 2.06.94-2.06 2.06-.94-2.06-.94-.94-2.06-.94 2.06-2.06.94zm-11 1L8.5 8.5l.94-2.06 2.06-.94-2.06-.94L8.5 2.5l-.94 2.06-2.06.94zm10 10l.94 2.06.94-2.06 2.06-.94-2.06-.94-.94-2.06-.94 2.06-2.06.94z\"/><path d=\"M17.41 7.96l-1.37-1.37c-.4-.4-.92-.59-1.43-.59-.52 0-1.04.2-1.43.59L10.3 9.45l-7.72 7.72c-.78.78-.78 2.05 0 2.83L4 21.41c.39.39.9.59 1.41.59.51 0 1.02-.2 1.41-.59l7.78-7.78 2.81-2.81c.8-.78.8-2.07 0-2.86zM5.41 20L4 18.59l7.72-7.72 1.47 1.35L5.41 20z\"/>\n",
              "  </svg>\n",
              "      </button>\n",
              "      \n",
              "  <style>\n",
              "    .colab-df-container {\n",
              "      display:flex;\n",
              "      flex-wrap:wrap;\n",
              "      gap: 12px;\n",
              "    }\n",
              "\n",
              "    .colab-df-convert {\n",
              "      background-color: #E8F0FE;\n",
              "      border: none;\n",
              "      border-radius: 50%;\n",
              "      cursor: pointer;\n",
              "      display: none;\n",
              "      fill: #1967D2;\n",
              "      height: 32px;\n",
              "      padding: 0 0 0 0;\n",
              "      width: 32px;\n",
              "    }\n",
              "\n",
              "    .colab-df-convert:hover {\n",
              "      background-color: #E2EBFA;\n",
              "      box-shadow: 0px 1px 2px rgba(60, 64, 67, 0.3), 0px 1px 3px 1px rgba(60, 64, 67, 0.15);\n",
              "      fill: #174EA6;\n",
              "    }\n",
              "\n",
              "    [theme=dark] .colab-df-convert {\n",
              "      background-color: #3B4455;\n",
              "      fill: #D2E3FC;\n",
              "    }\n",
              "\n",
              "    [theme=dark] .colab-df-convert:hover {\n",
              "      background-color: #434B5C;\n",
              "      box-shadow: 0px 1px 3px 1px rgba(0, 0, 0, 0.15);\n",
              "      filter: drop-shadow(0px 1px 2px rgba(0, 0, 0, 0.3));\n",
              "      fill: #FFFFFF;\n",
              "    }\n",
              "  </style>\n",
              "\n",
              "      <script>\n",
              "        const buttonEl =\n",
              "          document.querySelector('#df-0ad9375d-b21c-4f1c-b4d2-29005f50c209 button.colab-df-convert');\n",
              "        buttonEl.style.display =\n",
              "          google.colab.kernel.accessAllowed ? 'block' : 'none';\n",
              "\n",
              "        async function convertToInteractive(key) {\n",
              "          const element = document.querySelector('#df-0ad9375d-b21c-4f1c-b4d2-29005f50c209');\n",
              "          const dataTable =\n",
              "            await google.colab.kernel.invokeFunction('convertToInteractive',\n",
              "                                                     [key], {});\n",
              "          if (!dataTable) return;\n",
              "\n",
              "          const docLinkHtml = 'Like what you see? Visit the ' +\n",
              "            '<a target=\"_blank\" href=https://colab.research.google.com/notebooks/data_table.ipynb>data table notebook</a>'\n",
              "            + ' to learn more about interactive tables.';\n",
              "          element.innerHTML = '';\n",
              "          dataTable['output_type'] = 'display_data';\n",
              "          await google.colab.output.renderOutput(dataTable, element);\n",
              "          const docLink = document.createElement('div');\n",
              "          docLink.innerHTML = docLinkHtml;\n",
              "          element.appendChild(docLink);\n",
              "        }\n",
              "      </script>\n",
              "    </div>\n",
              "  </div>\n",
              "  "
            ]
          },
          "metadata": {},
          "execution_count": 4
        }
      ]
    },
    {
      "cell_type": "code",
      "source": [
        "all_topics = set(telugu_df['topic'])"
      ],
      "metadata": {
        "id": "I1U58iPlXSre"
      },
      "execution_count": null,
      "outputs": []
    },
    {
      "cell_type": "code",
      "source": [
        "all_topics"
      ],
      "metadata": {
        "colab": {
          "base_uri": "https://localhost:8080/"
        },
        "id": "_eP5uqbLXZiv",
        "outputId": "01753987-d699-4265-ffd0-1007a51c4f06"
      },
      "execution_count": null,
      "outputs": [
        {
          "output_type": "execute_result",
          "data": {
            "text/plain": [
              "{'business', 'editorial', 'entertainment', 'nation', 'sports'}"
            ]
          },
          "metadata": {},
          "execution_count": 6
        }
      ]
    },
    {
      "cell_type": "code",
      "source": [
        "telugu_df.shape"
      ],
      "metadata": {
        "colab": {
          "base_uri": "https://localhost:8080/"
        },
        "id": "VpgVyG70Yjx_",
        "outputId": "f4211b6a-da9f-4f66-a4e2-1041f7d16c0b"
      },
      "execution_count": null,
      "outputs": [
        {
          "output_type": "execute_result",
          "data": {
            "text/plain": [
              "(17312, 5)"
            ]
          },
          "metadata": {},
          "execution_count": 7
        }
      ]
    },
    {
      "cell_type": "code",
      "source": [
        "from sklearn.model_selection import train_test_split\n",
        "X_train, X_val, y_train, y_val = train_test_split(telugu_df['body'], telugu_df['topic'], test_size=0.1, random_state=42)"
      ],
      "metadata": {
        "id": "cAwLcazDXbe0"
      },
      "execution_count": null,
      "outputs": []
    },
    {
      "cell_type": "code",
      "source": [
        "X_train.shape"
      ],
      "metadata": {
        "colab": {
          "base_uri": "https://localhost:8080/"
        },
        "id": "8nFShUe2Yp-X",
        "outputId": "680a9e52-4501-4f20-be38-2fdf9a56e7f7"
      },
      "execution_count": null,
      "outputs": [
        {
          "output_type": "execute_result",
          "data": {
            "text/plain": [
              "(15580,)"
            ]
          },
          "metadata": {},
          "execution_count": 9
        }
      ]
    },
    {
      "cell_type": "code",
      "source": [
        "X_val.shape"
      ],
      "metadata": {
        "colab": {
          "base_uri": "https://localhost:8080/"
        },
        "id": "mHN-vZ0eY2Lt",
        "outputId": "047409ac-f365-49f5-ee2f-1397fa14535a"
      },
      "execution_count": null,
      "outputs": [
        {
          "output_type": "execute_result",
          "data": {
            "text/plain": [
              "(1732,)"
            ]
          },
          "metadata": {},
          "execution_count": 10
        }
      ]
    },
    {
      "cell_type": "code",
      "source": [
        "X_test, y_test = test_df['body'], test_df['topic']"
      ],
      "metadata": {
        "id": "W8YAn9nla3yw"
      },
      "execution_count": null,
      "outputs": []
    },
    {
      "cell_type": "code",
      "source": [
        "X_test.shape"
      ],
      "metadata": {
        "colab": {
          "base_uri": "https://localhost:8080/"
        },
        "id": "Mca7b_JiyXBi",
        "outputId": "3fb25ad8-0c0e-4848-f87f-e452a310f2bb"
      },
      "execution_count": null,
      "outputs": [
        {
          "output_type": "execute_result",
          "data": {
            "text/plain": [
              "(4329,)"
            ]
          },
          "metadata": {},
          "execution_count": 4
        }
      ]
    },
    {
      "cell_type": "code",
      "source": [
        "mini, maxi = 10000, 0\n",
        "mini_count, maxi_count = 0, 0\n",
        "for sentence in X_train:\n",
        "  mini = min(len(sentence), mini)\n",
        "  maxi = max(len(sentence), mini)\n",
        "  if len(sentence) < 500: mini_count += 1\n",
        "  else: maxi_count += 1\n",
        "print(mini)\n",
        "print(maxi)\n",
        "print(mini_count)\n",
        "print(maxi_count)"
      ],
      "metadata": {
        "colab": {
          "base_uri": "https://localhost:8080/"
        },
        "id": "eihinQxIY5C7",
        "outputId": "2ce6ad9e-5726-4dfc-a3c5-f3341d4b1d9c"
      },
      "execution_count": null,
      "outputs": [
        {
          "output_type": "stream",
          "name": "stdout",
          "text": [
            "6\n",
            "2087\n",
            "2481\n",
            "13099\n"
          ]
        }
      ]
    },
    {
      "cell_type": "code",
      "source": [
        "from keras.preprocessing.text import Tokenizer\n",
        "tokenizer = Tokenizer(num_words=50000)\n",
        "tokenizer.fit_on_texts(X_train)\n",
        "\n",
        "X_train_tok = tokenizer.texts_to_sequences(X_train)\n",
        "X_val_tok = tokenizer.texts_to_sequences(X_val)"
      ],
      "metadata": {
        "id": "NVitFrGYZZRw"
      },
      "execution_count": null,
      "outputs": []
    },
    {
      "cell_type": "code",
      "source": [
        "X_test_tok = tokenizer.texts_to_sequences(X_test)"
      ],
      "metadata": {
        "id": "0rjB18SrbQys"
      },
      "execution_count": null,
      "outputs": []
    },
    {
      "cell_type": "code",
      "source": [
        "len(tokenizer.word_index)"
      ],
      "metadata": {
        "colab": {
          "base_uri": "https://localhost:8080/"
        },
        "id": "iVcHE1hVf9Vn",
        "outputId": "9088984b-1ccf-4075-b2ed-5e1637a7f49e"
      },
      "execution_count": null,
      "outputs": [
        {
          "output_type": "execute_result",
          "data": {
            "text/plain": [
              "295592"
            ]
          },
          "metadata": {},
          "execution_count": 15
        }
      ]
    },
    {
      "cell_type": "code",
      "source": [
        "from keras_preprocessing.sequence import pad_sequences\n",
        "vocab_size = len(tokenizer.word_index) + 1\n",
        "\n",
        "maxlen = 500\n",
        "\n",
        "X_train_pad = pad_sequences(X_train_tok, padding='post', maxlen=maxlen)\n",
        "X_val_pad = pad_sequences(X_val_tok, padding='post', maxlen=maxlen)"
      ],
      "metadata": {
        "id": "mhhZwXrAgJuL"
      },
      "execution_count": null,
      "outputs": []
    },
    {
      "cell_type": "code",
      "source": [
        "X_test_pad = pad_sequences(X_test_tok, padding='post', maxlen=maxlen)"
      ],
      "metadata": {
        "id": "xlWx-Lj8baHl"
      },
      "execution_count": null,
      "outputs": []
    },
    {
      "cell_type": "code",
      "source": [
        "def create_model(output_dim, dropout=None):\n",
        "  model = Sequential()\n",
        "  embedding_layer = Embedding(vocab_size, output_dim, input_length=maxlen)\n",
        "  model.add(embedding_layer)\n",
        "  if dropout: model.add(Dropout(dropout))\n",
        "  model.add(Flatten())\n",
        "  model.add(Dense(5, activation='softmax'))\n",
        "  model.compile(optimizer='adam', loss='categorical_crossentropy', metrics=['acc'])\n",
        "  print(model.summary())\n",
        "  return model"
      ],
      "metadata": {
        "colab": {
          "base_uri": "https://localhost:8080/"
        },
        "id": "4DIBlaOGgi2q",
        "outputId": "c2d61b44-08fc-4f96-eb54-e873bc40c143"
      },
      "execution_count": null,
      "outputs": [
        {
          "output_type": "stream",
          "name": "stdout",
          "text": [
            "Model: \"sequential_1\"\n",
            "_________________________________________________________________\n",
            " Layer (type)                Output Shape              Param #   \n",
            "=================================================================\n",
            " embedding_1 (Embedding)     (None, 500, 500)          147796500 \n",
            "                                                                 \n",
            " dropout_1 (Dropout)         (None, 500, 500)          0         \n",
            "                                                                 \n",
            " flatten_1 (Flatten)         (None, 250000)            0         \n",
            "                                                                 \n",
            " dense_1 (Dense)             (None, 5)                 1250005   \n",
            "                                                                 \n",
            "=================================================================\n",
            "Total params: 149,046,505\n",
            "Trainable params: 149,046,505\n",
            "Non-trainable params: 0\n",
            "_________________________________________________________________\n",
            "None\n"
          ]
        }
      ]
    },
    {
      "cell_type": "code",
      "source": [
        "from keras.utils import to_categorical\n",
        "from collections import defaultdict\n",
        "\n",
        "data = list(all_topics)\n",
        "dic = defaultdict(int)\n",
        "counter = 0\n",
        "for val in data:\n",
        "    if not dic[val]: #if its a new entry add it to the dict and increase the counter\n",
        "        print(val, counter)\n",
        "        dic[val] = counter\n",
        "        counter+=1"
      ],
      "metadata": {
        "colab": {
          "base_uri": "https://localhost:8080/"
        },
        "id": "guZnq4IUlB91",
        "outputId": "2108fc75-d0ab-44b0-fc58-722b64d5666e"
      },
      "execution_count": null,
      "outputs": [
        {
          "output_type": "stream",
          "name": "stdout",
          "text": [
            "nation 0\n",
            "entertainment 1\n",
            "sports 2\n",
            "editorial 3\n",
            "business 4\n"
          ]
        }
      ]
    },
    {
      "cell_type": "code",
      "source": [
        "labels = [dic[x] for x in y_train]"
      ],
      "metadata": {
        "id": "JBz6p3LjnTbw"
      },
      "execution_count": null,
      "outputs": []
    },
    {
      "cell_type": "code",
      "source": [
        "dev_labels = [dic[x] for x in y_val]"
      ],
      "metadata": {
        "id": "geF2rSjGVw1M"
      },
      "execution_count": null,
      "outputs": []
    },
    {
      "cell_type": "code",
      "source": [
        "import tensorflow as tf\n",
        "y_categorical = tf.keras.utils.to_categorical(labels, num_classes=5)"
      ],
      "metadata": {
        "id": "F9PuFUy2nbJA"
      },
      "execution_count": null,
      "outputs": []
    },
    {
      "cell_type": "code",
      "source": [
        "y_val_categorical = tf.keras.utils.to_categorical(dev_labels, num_classes=5)"
      ],
      "metadata": {
        "id": "UdqDabjLV6Lo"
      },
      "execution_count": null,
      "outputs": []
    },
    {
      "cell_type": "markdown",
      "source": [
        "I fine-tuned hyper parameters and finally figured out the best validation accuracy is with batch size as 32, epochs 2.\n",
        "\n",
        "I have tried on changing the output_dim of embedding layer, tried without dropout and then increased dropout. Best is with Dropout of 2. \n",
        "\n",
        "Tried batch_sizes of [5, 16, 32, 64, 128] with epochs ranging between [2, 20] with a skip of 2 each time."
      ],
      "metadata": {
        "id": "xmpIPG20NQy_"
      }
    },
    {
      "cell_type": "code",
      "source": [
        "def hyper_param_tune(batch_size, epoch):\n",
        "  model = create_model(500, 0.2)\n",
        "  history = model.fit(X_train_pad, y_categorical, batch_size=32, epochs=2, verbose=1, validation_data=(X_val_pad, y_val_categorical))\n",
        "  print(history.history['val_acc'])"
      ],
      "metadata": {
        "id": "YxNBAKkNOJtO"
      },
      "execution_count": null,
      "outputs": []
    },
    {
      "cell_type": "code",
      "source": [
        "best_params = {'batch_size': 32, 'epochs' : 2, 'dropout' : 0.2, 'output_dim' : 500}"
      ],
      "metadata": {
        "id": "chA6FMCoT3GJ"
      },
      "execution_count": null,
      "outputs": []
    },
    {
      "cell_type": "code",
      "source": [
        "model = create_model(best_params['output_dim'], best_params['dropout'])\n",
        "history = model.fit(X_train_pad, y_categorical, batch_size=best_params['batch_size'], epochs=best_params['epochs'], verbose=1, validation_data=(X_val_pad, y_val_categorical))"
      ],
      "metadata": {
        "colab": {
          "base_uri": "https://localhost:8080/"
        },
        "id": "B6V3W2vSg9cx",
        "outputId": "aff11b57-5ac5-47bf-8a33-e2b1aeed26e1"
      },
      "execution_count": null,
      "outputs": [
        {
          "output_type": "stream",
          "name": "stdout",
          "text": [
            "Epoch 1/2\n",
            "487/487 [==============================] - 41s 84ms/step - loss: 0.4146 - acc: 0.8689 - val_loss: 0.1449 - val_acc: 0.9544\n",
            "Epoch 2/2\n",
            "487/487 [==============================] - 41s 84ms/step - loss: 0.0215 - acc: 0.9944 - val_loss: 0.1542 - val_acc: 0.9515\n"
          ]
        }
      ]
    },
    {
      "cell_type": "code",
      "source": [
        "model.save('drop_two_ep_2_bs_32.h5')"
      ],
      "metadata": {
        "id": "nN-ED8EIgJ69"
      },
      "execution_count": null,
      "outputs": []
    },
    {
      "cell_type": "code",
      "source": [
        "from sklearn import metrics\n",
        "import numpy as np\n",
        "\n",
        "y_final_test_predicted_labels = model.predict(X_test_pad)\n",
        "y_final_test_predicted_labels = np.argmax(y_final_test_predicted_labels, axis=1) \n",
        "\n",
        "final_test_accuracy = metrics.accuracy_score(y_test, y_final_test_predicted_labels)"
      ],
      "metadata": {
        "colab": {
          "base_uri": "https://localhost:8080/"
        },
        "id": "znDaF2TRbtIi",
        "outputId": "20b40878-644f-411b-cc76-e87c44ca363f"
      },
      "execution_count": null,
      "outputs": [
        {
          "output_type": "stream",
          "name": "stdout",
          "text": [
            "136/136 [==============================] - 0s 2ms/step\n"
          ]
        }
      ]
    },
    {
      "cell_type": "code",
      "source": [
        "y_test_labels = []\n",
        "for i in y_test:\n",
        "  y_test_labels.append(dic[i])"
      ],
      "metadata": {
        "id": "MLvEHgx6eMtQ"
      },
      "execution_count": null,
      "outputs": []
    },
    {
      "cell_type": "code",
      "source": [
        "final_test_accuracy = metrics.accuracy_score(y_test_labels, y_final_test_predicted_labels)"
      ],
      "metadata": {
        "id": "y2slXcXmfJXU"
      },
      "execution_count": null,
      "outputs": []
    },
    {
      "cell_type": "code",
      "source": [
        "final_test_accuracy"
      ],
      "metadata": {
        "colab": {
          "base_uri": "https://localhost:8080/"
        },
        "id": "ZCjpEXbYfTsq",
        "outputId": "7bef7d85-cb90-45e6-d21a-d2f0b0473558"
      },
      "execution_count": null,
      "outputs": [
        {
          "output_type": "execute_result",
          "data": {
            "text/plain": [
              "0.957033957033957"
            ]
          },
          "metadata": {},
          "execution_count": 41
        }
      ]
    },
    {
      "cell_type": "code",
      "source": [
        "final_test_f1score = metrics.f1_score(y_test_labels, y_final_test_predicted_labels, average='weighted')"
      ],
      "metadata": {
        "id": "jZiAkMo-fZ0R"
      },
      "execution_count": null,
      "outputs": []
    },
    {
      "cell_type": "code",
      "source": [
        "final_test_f1score"
      ],
      "metadata": {
        "colab": {
          "base_uri": "https://localhost:8080/"
        },
        "id": "az8cUh2Zfiv0",
        "outputId": "2104a9cd-7166-44c5-a89f-23b28862a698"
      },
      "execution_count": null,
      "outputs": [
        {
          "output_type": "execute_result",
          "data": {
            "text/plain": [
              "0.9561872563665075"
            ]
          },
          "metadata": {},
          "execution_count": 53
        }
      ]
    },
    {
      "cell_type": "code",
      "source": [],
      "metadata": {
        "id": "68njlapbfkJl"
      },
      "execution_count": null,
      "outputs": []
    }
  ]
}